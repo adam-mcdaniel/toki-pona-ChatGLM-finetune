{
 "cells": [
  {
   "attachments": {},
   "cell_type": "markdown",
   "metadata": {},
   "source": [
    "## Setup Prompts\n",
    "\n",
    "Take the data in:\n",
    "\n",
    "|File|Description|Columns|\n",
    "|-|-|-|\n",
    "|`data/chapters.tsv`|Chapters in toki pona and their translations.|`name`: the name of the content. `chapter_number`: the number of this chapter. `content_type`: the type of content (such as `\"biblical text\"`). `tok`: the Toki Pona content string. `eng`: the English content string. `cmn`: the Chinese content string.|\n",
    "|`data/documents.tsv`|Entire documents, including articles, books, screenplays, etc. in toki pona and their translations.|`name`: the name of the content. `content_type`: the type of content (such as `\"biblical text\"`). `tok`: the Toki Pona content string. `eng`: the English content string. `cmn`: the Chinese content string.|\n",
    "|`data/sentence_translations.tsv`|Translations of sentences in Toki Pona, Chinese, and English.|`tok`: the Toki Pona sentence. `eng`: the English sentence. `cmn`: the Chinese sentence.|\n",
    "|`data/sentence.tsv`|A collection of miscellaneous sentences in Toki Pona.|`content_type`: the type of content associated with the sentence. `tok`: the sentence in Toki Pona.|"
   ]
  },
  {
   "cell_type": "code",
   "execution_count": null,
   "metadata": {},
   "outputs": [],
   "source": []
  }
 ],
 "metadata": {
  "language_info": {
   "name": "python"
  },
  "orig_nbformat": 4
 },
 "nbformat": 4,
 "nbformat_minor": 2
}
